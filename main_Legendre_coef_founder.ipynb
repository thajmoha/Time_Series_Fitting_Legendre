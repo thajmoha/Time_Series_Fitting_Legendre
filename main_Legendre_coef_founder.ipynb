{
 "cells": [
  {
   "cell_type": "code",
   "execution_count": 125,
   "metadata": {},
   "outputs": [],
   "source": [
    "#Turki Haj Mohamad\n",
    "#4/42020\n",
    "#this code return the coeffecients matrix of Legendre polynomial given the order"
   ]
  },
  {
   "cell_type": "code",
   "execution_count": 136,
   "metadata": {},
   "outputs": [],
   "source": [
    "import numpy as np\n",
    "#     compute the coefficients matrix for LEgendre polynomial \n",
    "n_order = 3\n",
    "if n_order > 1:\n",
    "        coeff = np.zeros((n_order+1,n_order+1))\n",
    "        coeff[0,0] = 1 #set coef of P_0(x) to 1\n",
    "        coeff[1,1] = 1 #set coef of P_1(x) to 1\n",
    "        for ii in np.arange(2,n_order+1):\n",
    "                    # P{n}(x) = (2-1/n)xP_{n-1}(x) - (1-1/n)*P_{n-2}(x)\n",
    "                    # =   (2-1/ii)* coeff[ii-1,last_indx then zero to index before last] --> because mulitply of x  - (1-1/ii)* coeff[ii-2,:]\n",
    "            coeff[ii,:] = (2-1/ii)*np.concatenate([np.array(coeff[ii-1,-1]).reshape(1,),coeff[ii-1,:-1]]).reshape(1,-1) - (1-1/ii)*coeff[ii-2,:]\n",
    "else:\n",
    "    coeff = np.eye(n_order+1)"
   ]
  },
  {
   "cell_type": "code",
   "execution_count": 137,
   "metadata": {},
   "outputs": [
    {
     "name": "stdout",
     "output_type": "stream",
     "text": [
      "[['P_0' 'P_1' 'P_2' 'P_3']\n",
      " ['1.0' '0.0' '0.0' '0.0']\n",
      " ['0.0' '1.0' '0.0' '0.0']\n",
      " ['-0.5' '0.0' '1.5' '0.0']\n",
      " ['0.0' '-1.5' '0.0' '2.5']]\n"
     ]
    }
   ],
   "source": [
    "A = ['P_0']\n",
    "\n",
    "for i in np.arange(1,n_order+1):\n",
    "    A.append(str.replace(key_p,'o',str(i)))\n",
    "print(np.vstack((A,coeff)))"
   ]
  },
  {
   "cell_type": "code",
   "execution_count": null,
   "metadata": {},
   "outputs": [],
   "source": []
  }
 ],
 "metadata": {
  "kernelspec": {
   "display_name": "Python 3.6 (tensorflow)",
   "language": "python",
   "name": "tensorflow"
  },
  "language_info": {
   "codemirror_mode": {
    "name": "ipython",
    "version": 3
   },
   "file_extension": ".py",
   "mimetype": "text/x-python",
   "name": "python",
   "nbconvert_exporter": "python",
   "pygments_lexer": "ipython3",
   "version": "3.6.9"
  }
 },
 "nbformat": 4,
 "nbformat_minor": 2
}
