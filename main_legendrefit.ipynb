{
 "cells": [
  {
   "cell_type": "markdown",
   "metadata": {},
   "source": []
  },
  {
   "cell_type": "code",
   "execution_count": 1,
   "metadata": {},
   "outputs": [
    {
     "data": {
      "text/plain": [
       "<Figure size 640x480 with 1 Axes>"
      ]
     },
     "metadata": {},
     "output_type": "display_data"
    }
   ],
   "source": [
    "import numpy as np\n",
    "import matplotlib.pyplot as plt\n",
    "n_order =3\n",
    "t = np.linspace(0,10,100)\n",
    "signal = np.sin(t)\n",
    "\n",
    "\n",
    "plt.plot(t,signal)\n",
    "plt.show()\n",
    "m = len(signal)\n",
    "X = np.linspace(-1,1,m) # Legendre polynomial are supported for |x| <=1\n"
   ]
  },
  {
   "cell_type": "code",
   "execution_count": 2,
   "metadata": {},
   "outputs": [],
   "source": [
    "n_order = 20\n",
    "if n_order > 1:\n",
    "        coeff = np.zeros((n_order+1,n_order+1))\n",
    "        coeff[0,0] = 1 #set coef of P_0(x) to 1\n",
    "        coeff[1,1] = 1 #set coef of P_1(x) to 1\n",
    "        for ii in np.arange(2,n_order+1):\n",
    "                    # P{n}(x) = (2-1/n)xP_{n-1}(x) - (1-1/n)*P_{n-2}(x)\n",
    "                    # =   (2-1/ii)* coeff[ii-1,last_indx then zero to index before last] --> because mulitply of x  - (1-1/ii)* coeff[ii-2,:]\n",
    "            coeff[ii,:] = (2-1/ii)*np.concatenate([np.array(coeff[ii-1,-1]).reshape(1,),coeff[ii-1,:-1]]).reshape(1,-1) - (1-1/ii)*coeff[ii-2,:]\n",
    "else:\n",
    "    coeff = np.eye(n_order+1)"
   ]
  },
  {
   "cell_type": "code",
   "execution_count": 3,
   "metadata": {},
   "outputs": [],
   "source": [
    "a = np.ones((m,1))\n",
    "b = np.repeat(X.reshape(-1,1),n_order,axis=1)\n",
    "s = np.concatenate((a,b),axis=1)\n",
    "D = np.dot(np.cumprod(s,axis=1),coeff.T)\n",
    "\n",
    "#A = np.dot(D.T,D)/(np.dot(D.T,signal.reshape(-1,1)))\n",
    "A = np.dot(np.linalg.inv(np.dot(D.T,D)),np.dot(D.T,signal))\n"
   ]
  },
  {
   "cell_type": "code",
   "execution_count": 4,
   "metadata": {},
   "outputs": [
    {
     "data": {
      "text/plain": [
       "(21,)"
      ]
     },
     "execution_count": 4,
     "metadata": {},
     "output_type": "execute_result"
    }
   ],
   "source": [
    "A.shape"
   ]
  },
  {
   "cell_type": "code",
   "execution_count": 5,
   "metadata": {},
   "outputs": [
    {
     "data": {
      "text/plain": [
       "array([ 1.83907153e-01, -8.09198079e-02,  6.45985140e-01, -4.56339932e-01,\n",
       "       -1.61402193e+00,  3.33281162e-01,  5.97956121e-01, -7.61751178e-02,\n",
       "       -9.35952184e-02,  8.72088033e-03,  8.20285796e-03, -6.05096979e-04,\n",
       "       -4.62390012e-04,  2.82858265e-05,  1.82274009e-05, -9.53463811e-07,\n",
       "       -5.31608256e-07,  2.43053409e-08,  1.19479986e-08, -4.84402441e-10,\n",
       "       -2.13108448e-10])"
      ]
     },
     "execution_count": 5,
     "metadata": {},
     "output_type": "execute_result"
    }
   ],
   "source": [
    "A"
   ]
  },
  {
   "cell_type": "code",
   "execution_count": 6,
   "metadata": {},
   "outputs": [
    {
     "data": {
      "text/plain": [
       "array([ 1.83907153e-01, -8.09198079e-02,  6.45985140e-01, -4.56339932e-01,\n",
       "       -1.61402193e+00,  3.33281162e-01,  5.97956121e-01, -7.61751178e-02,\n",
       "       -9.35952184e-02,  8.72088033e-03,  8.20285796e-03, -6.05096979e-04,\n",
       "       -4.62390012e-04,  2.82858265e-05,  1.82274009e-05, -9.53463811e-07,\n",
       "       -5.31608256e-07,  2.43053409e-08,  1.19479986e-08, -4.84402441e-10,\n",
       "       -2.13108448e-10])"
      ]
     },
     "execution_count": 6,
     "metadata": {},
     "output_type": "execute_result"
    }
   ],
   "source": [
    "A"
   ]
  },
  {
   "cell_type": "code",
   "execution_count": 10,
   "metadata": {},
   "outputs": [
    {
     "data": {
      "text/plain": [
       "[<matplotlib.lines.Line2D at 0x1e4d981ed68>]"
      ]
     },
     "execution_count": 10,
     "metadata": {},
     "output_type": "execute_result"
    },
    {
     "data": {
      "image/png": "[encoded data removed]",
      "text/plain": [
       "<Figure size 432x288 with 1 Axes>"
      ]
     },
     "metadata": {
      "needs_background": "light"
     },
     "output_type": "display_data"
    }
   ],
   "source": [
    "plt.plot(t,np.dot(D,A))\n",
    "plt.plot(t,signal,'--')"
   ]
  },
  {
   "cell_type": "code",
   "execution_count": null,
   "metadata": {},
   "outputs": [],
   "source": []
  }
 ],
 "metadata": {
  "kernelspec": {
   "display_name": "Python 3.6 (tensorflow)",
   "language": "python",
   "name": "tensorflow"
  },
  "language_info": {
   "codemirror_mode": {
    "name": "ipython",
    "version": 3
   },
   "file_extension": ".py",
   "mimetype": "text/x-python",
   "name": "python",
   "nbconvert_exporter": "python",
   "pygments_lexer": "ipython3",
   "version": "3.6.9"
  }
 },
 "nbformat": 4,
 "nbformat_minor": 2
}
